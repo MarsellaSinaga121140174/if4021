{
 "cells": [
  {
   "cell_type": "markdown",
   "metadata": {
    "id": "_Vixmcry-L1c"
   },
   "source": [
    "# **Tugas Hands On 3**\n"
   ]
  },
  {
   "cell_type": "markdown",
   "metadata": {
    "id": "OiHJH2xI-Xx1"
   },
   "source": [
    "##### **NAMA  :   MARSELLA YESI NATALIA SINAGA**"
   ]
  },
  {
   "cell_type": "markdown",
   "metadata": {
    "id": "tuvnO-YM-eeg"
   },
   "source": [
    "##### **NIM : 121140174**"
   ]
  },
  {
   "cell_type": "markdown",
   "metadata": {
    "id": "KGBBke3v-j_V"
   },
   "source": [
    "### **Sistem Teknologi/Multimedia (IF4021)**"
   ]
  },
  {
   "cell_type": "markdown",
   "metadata": {
    "id": "NEz0WyUz-wMl"
   },
   "source": [
    "##### **SOAL 1**"
   ]
  },
  {
   "cell_type": "code",
   "execution_count": 1,
   "metadata": {
    "id": "4jOOyx3l-yqj"
   },
   "outputs": [],
   "source": [
    "import os\n",
    "from glob import glob\n",
    "import cv2\n",
    "import numpy as np\n",
    "import matplotlib.pyplot as plt\n",
    "import dlib\n",
    "import datetime as dt"
   ]
  },
  {
   "cell_type": "markdown",
   "metadata": {
    "id": "AEkgyJWcAR_w"
   },
   "source": [
    "**1.** Jelaskan maksud dari **`list_imgs = sorted(list_imgs, key=lambda x: int(x.split('/')[-1].split('.')[0]))`**\n"
   ]
  },
  {
   "cell_type": "markdown",
   "metadata": {
    "id": "s9NS9V6-D-lo"
   },
   "source": [
    "Dalam code tersebut berfungsi untuk mengurutkan daftar list_imgs, yang berisi nama-nama file gambar\n",
    "yang dimana terdapat penjelasan dari bagian bagiannya :\n",
    "\n",
    "**-** **`sorted()`**:\n",
    "- Fungsi ini digunakan untuk mengurutkan elemen dalam iterable (dalam hal ini, list_imgs).\n",
    "- Fungsi ini mengembalikan daftar baru yang sudah terurut.\n",
    "\n",
    "**-** **`list_imgs`**:\n",
    "\n",
    "- Daftar yang berisi nama-nama file gambar yang akan diurutkan. Nama file tersebut biasanya memiliki format yang mencakup angka.\n",
    "\n",
    "**-** **`key=lambda x: ...`**:\n",
    "    \n",
    "- Parameter key dalam fungsi sorted() menentukan kriteria pengurutan. Fungsi lambda ini mengambil satu argumen x, yang merupakan elemen dari list_imgs.\n",
    "\n",
    "**-** **`x.split('/')[-1]`**:\n",
    "\n",
    "- Memecah string x (nama file) berdasarkan karakter pemisah '/' dan mengambil elemen terakhir dari hasil pemecahan. Hal ini digunakan untuk mendapatkan nama file dari path lengkap.\n",
    "\n",
    "**-** **`split('.')[0]`**:\n",
    "\n",
    "- Setelah mendapatkan nama file, pemecahan dilakukan lagi berdasarkan karakter pemisah '.', dan elemen pertama diambil. Ini digunakan untuk mendapatkan nama file tanpa ekstensi.\n",
    "\n",
    "**-** **`int(...)`**:\n",
    "\n",
    "- Hasil dari pemecahan nama file (yang seharusnya berupa string yang mewakili angka) kemudian dikonversi menjadi tipe data integer. Ini penting agar pengurutan dilakukan berdasarkan nilai numerik, bukan berdasarkan urutan leksikografis.\n"
   ]
  },
  {
   "cell_type": "markdown",
   "metadata": {
    "id": "JNMbyYQoKBdt"
   },
   "source": [
    "**2.** Jelaskan tentang bagian kode berikut: **`fourcc = cv2.VideoWriter_fourcc(*'mp4v')`**\n",
    "Apakah ada opsi lain selain mp4v? Jika ada, coba gunakan dan jelaskan.\n"
   ]
  },
  {
   "cell_type": "markdown",
   "metadata": {
    "id": "aMm_YsQ8Hqsc"
   },
   "source": [
    "Dalam Code tersebut digunakan untuk menentukan codec yang akan digunakan saat menyimpan video menggunakan OpenCV. Terdapat penjelasan dari bagian bagiannya :\n",
    "\n",
    "**- `cv2.VideoWriter_fourcc(*'mp4v')`:**\n",
    "\n",
    "- `cv2.VideoWriter_fourcc()` adalah fungsi dari OpenCV yang digunakan untuk menentukan codec video.\n",
    "- `*'mp4v'` adalah string yang mewakili codec MP4V (MPEG-4 Video).\n",
    "\n",
    "**- Opsi Codec Lain:**\n",
    "\n",
    "| Kode | Codec |\n",
    "|---|---|\n",
    "| `'XVID'` | XVID |\n",
    "| `'MJPG'` | Motion JPEG |\n",
    "| `'DIVX'` | DivX |\n",
    "| `'H264'` | H.264 |\n",
    "| `'FFV1'` | FFmpeg's FFV1 |"
   ]
  },
  {
   "cell_type": "markdown",
   "metadata": {
    "id": "y-0IJan1M_Ze"
   },
   "source": [
    "**3. Membuat video dengan FPS yang lebih rendah.**\n",
    "- Dengan menggunakan video, simpanlah frame gambar setiap 3 frame. Begini ilustrasinya, jika ada frame 1 s/d 30, maka anda hanya perlu menyimpan frame 1, 4, 7, 10, 13, 16, 19, 22, 25, 28.\n",
    "- Dengan analogi ini, artinya anda mengurangi FPS-nya. Berapakah FPS yang baru?\n",
    "- Untuk setiap gambar, convertlah ke dalam format grayscale dan resize menjadi 1280 x 720.\n",
    "- Untuk setiap gambar, berikanlah titik merah (ukuran bebas, namun terlihat ketika video diputar). Titik tersebut bergerak dari kiri ke kanan untuk setiap frame. Titik tersebut harus sampai di ujung kanan gambar pada frame terakhir. Anda harus melakukan ini secara manual dengan memanipulasi matriks (tidak boleh pakai fungsi / library yang sudah ada)\n",
    "- Ingat, karena ini titik merah, maka channel warna pada video anda haruslah RGB (walaupun gambarnya telah menjadi grayscale).\n",
    "- Save video tersebut dengan nama **`video_low_fps.mp4`**\n",
    "\n"
   ]
  },
  {
   "cell_type": "code",
   "execution_count": null,
   "metadata": {
    "id": "WRb9SbIEM4kn"
   },
   "outputs": [],
   "source": [
    "Membaca Video dan Menghitung FPS Baru"
   ]
  },
  {
   "cell_type": "code",
   "execution_count": 14,
   "metadata": {
    "id": "-3CmZaYvK_V_"
   },
   "outputs": [],
   "source": [
    "import cv2\n",
    "import numpy as np\n",
    "\n",
    "# Membaca video\n",
    "video_input = 'marsella.mp4'\n",
    "video_output = 'video_low_fps.mp4'\n",
    "\n",
    "# Membuka video\n",
    "cap = cv2.VideoCapture(video_input)\n",
    "\n",
    "# Mendapatkan informasi video\n",
    "fps = cap.get(cv2.CAP_PROP_FPS)  # Mengambil FPS asli\n",
    "width = int(cap.get(cv2.CAP_PROP_FRAME_WIDTH))\n",
    "height = int(cap.get(cv2.CAP_PROP_FRAME_HEIGHT))\n",
    "total_frames = int(cap.get(cv2.CAP_PROP_FRAME_COUNT))\n",
    "\n",
    "# Menghitung FPS baru\n",
    "new_fps = fps / 3  # Mengurangi FPS dengan mengambil setiap 3 frame"
   ]
  },
  {
   "cell_type": "markdown",
   "metadata": {
    "id": "lZMJwNMnMdmY"
   },
   "source": [
    "Menyimpan video baru dan menginisialisasi variabel"
   ]
  },
  {
   "cell_type": "code",
   "execution_count": 15,
   "metadata": {
    "id": "RHwDJsamLyVc"
   },
   "outputs": [],
   "source": [
    "# Membuat objek VideoWriter untuk menyimpan video baru\n",
    "fourcc = cv2.VideoWriter_fourcc(*'mp4v')\n",
    "out = cv2.VideoWriter(video_output, fourcc, new_fps, (1280, 720), isColor=True)\n",
    "\n",
    "# Menginisialisasi variabel\n",
    "frame_count = 0\n",
    "saved_frames = 0\n",
    "x_pos = 0  # Posisi horizontal untuk titik merah"
   ]
  },
  {
   "cell_type": "markdown",
   "metadata": {
    "id": "iShseZPHMj_M"
   },
   "source": [
    "Menmproses frame"
   ]
  },
  {
   "cell_type": "code",
   "execution_count": 16,
   "metadata": {
    "colab": {
     "base_uri": "https://localhost:8080/"
    },
    "id": "WaMF-gmvMK0A",
    "outputId": "870cfa2c-dfac-40da-ed61-575746e89004"
   },
   "outputs": [
    {
     "name": "stdout",
     "output_type": "stream",
     "text": [
      "Video dengan FPS baru 9.998611303985557 telah disimpan sebagai video_low_fps.mp4.\n"
     ]
    }
   ],
   "source": [
    "while True:\n",
    "    ret, frame = cap.read()  # Membaca frame\n",
    "    if not ret:  # Jika tidak ada frame yang dibaca, keluar dari loop\n",
    "        break\n",
    "\n",
    "    # Simpan setiap 3 frame\n",
    "    if frame_count % 3 == 0:\n",
    "        # Mengonversi frame ke grayscale\n",
    "        gray = cv2.cvtColor(frame, cv2.COLOR_BGR2GRAY) # Menggunakan fungsi cv2.cvtColor untuk konversi ke grayscale\n",
    "\n",
    "        # Resize menjadi 1280x720\n",
    "        resized_gray = cv2.resize(gray, (1280, 720)) # Menggunakan fungsi cv2.resize untuk mengubah ukuran\n",
    "\n",
    "        # Menambahkan titik merah\n",
    "        # Konversi resized_gray ke BGR agar bisa menambahkan warna\n",
    "        resized_gray_bgr = cv2.cvtColor(resized_gray, cv2.COLOR_GRAY2BGR)\n",
    "        cv2.circle(resized_gray_bgr, (x_pos, 300), 10, (0, 0, 255), -1)  # Menambahkan titik merah\n",
    "\n",
    "        # Menulis frame ke video output\n",
    "        out.write(resized_gray_bgr)\n",
    "\n",
    "        # Mengupdate posisi titik merah\n",
    "        x_pos += int(1280 / (total_frames / 3))  # Menghitung posisi x untuk titik merah bergerak\n",
    "\n",
    "    frame_count += 1  # Menghitung jumlah frame yang diproses\n",
    "\n",
    "# Menutup semua objek\n",
    "cap.release()\n",
    "out.release()\n",
    "# cv2.destroyAllWindows() # Di-comment out untuk menghindari error di environment tanpa GUI\n",
    "\n",
    "print(f\"Video dengan FPS baru {new_fps} telah disimpan sebagai {video_output}.\")"
   ]
  },
  {
   "cell_type": "markdown",
   "metadata": {
    "id": "hCabLyHVMltu"
   },
   "source": [
    "**4**. Berdasarkan ROI Wajah, sesuaikanlah ROI tersebut untuk menyeleksi area bahu hingga dada."
   ]
  },
  {
   "cell_type": "code",
   "execution_count": 18,
   "metadata": {
    "colab": {
     "base_uri": "https://localhost:8080/"
    },
    "id": "Rj6iPC3eOgLm",
    "outputId": "003edc6b-0043-4261-b335-e314254fab5e"
   },
   "outputs": [
    {
     "name": "stdout",
     "output_type": "stream",
     "text": [
      "Video dengan ROI bahu hingga dada telah disimpan sebagai marsella_roi.mp4\n"
     ]
    }
   ],
   "source": [
    "# prompt: Berdasarkan ROI Wajah, sesuaikanlah ROI tersebut untuk menyeleksi area bahu hingga dada. di video_mul, dan rint hasilnya\n",
    "\n",
    "import cv2\n",
    "import numpy as np\n",
    "\n",
    "# Membaca video\n",
    "video_input = 'marsella.mp4'\n",
    "video_output = 'marsella_roi.mp4'\n",
    "\n",
    "# Membuka video\n",
    "cap = cv2.VideoCapture(video_input)\n",
    "\n",
    "# Mendapatkan informasi video\n",
    "fps = cap.get(cv2.CAP_PROP_FPS)\n",
    "width = int(cap.get(cv2.CAP_PROP_FRAME_WIDTH))\n",
    "height = int(cap.get(cv2.CAP_PROP_FRAME_HEIGHT))\n",
    "\n",
    "# Membuat objek VideoWriter\n",
    "fourcc = cv2.VideoWriter_fourcc(*'mp4v')\n",
    "out = cv2.VideoWriter(video_output, fourcc, fps, (width, height))\n",
    "\n",
    "# Loop melalui setiap frame\n",
    "while True:\n",
    "    ret, frame = cap.read()\n",
    "    if not ret:\n",
    "        break\n",
    "\n",
    "    # Asumsikan ROI wajah sudah dideteksi (ganti dengan deteksi wajah sebenarnya)\n",
    "    # Contoh ROI wajah (ganti dengan koordinat ROI wajah yang sebenarnya)\n",
    "    #  x,y,w,h = 100,100,150,150  # Contoh koordinat ROI wajah\n",
    "    #  cv2.rectangle(frame, (x,y), (x+w,y+h), (0,255,0), 2)\n",
    "\n",
    "    # Menyesuaikan ROI untuk bahu hingga dada berdasarkan ROI wajah\n",
    "    #  (Implementasi penyesuaian ROI ini bergantung pada algoritma deteksi wajah yang digunakan\n",
    "    #   dan perlu disesuaikan berdasarkan data video)\n",
    "    # Contoh sederhana:\n",
    "    try:\n",
    "        # Contoh logika penyesuaian ROI (ganti dengan logika yang sesuai)\n",
    "        #  x_bahu = x\n",
    "        #  y_bahu = y + h  # Titik awal ROI bahu di bawah ROI wajah\n",
    "        #  w_dada = w * 2  # Lebar ROI dada dua kali lebar ROI wajah\n",
    "        #  h_dada = h * 2   # Tinggi ROI dada dua kali tinggi ROI wajah\n",
    "        #  x_dada = x_bahu\n",
    "        #  y_dada = y_bahu\n",
    "\n",
    "        # Ganti dengan koordinat yang tepat berdasarkan hasil deteksi wajah\n",
    "        x_bahu, y_bahu, w_dada, h_dada = 100, 250, 300, 200  # Contoh koordinat\n",
    "        x_dada = x_bahu\n",
    "\n",
    "        # Menggambar ROI bahu hingga dada\n",
    "        cv2.rectangle(frame, (x_bahu, y_bahu), (x_bahu+ w_dada, y_bahu + h_dada), (0, 0, 255), 2)\n",
    "\n",
    "        # Simpan frame hasil\n",
    "        out.write(frame)\n",
    "\n",
    "    except:\n",
    "        print(\"ROI wajah tidak ditemukan\")\n",
    "        out.write(frame)\n",
    "\n",
    "\n",
    "# Menutup semua objek\n",
    "cap.release()\n",
    "out.release()\n",
    "\n",
    "\n",
    "print(f\"Video dengan ROI bahu hingga dada telah disimpan sebagai {video_output}\")"
   ]
  },
  {
   "cell_type": "markdown",
   "metadata": {
    "id": "VOWUO75tRIY4"
   },
   "source": [
    "**5.** Dengan menggunakan video anda, lakukan facial tracking pada detik ke 25 - 40. Berikan bounding box pada wajah yang terdeteksi. Simpan video tersebut di google drive, link-nya cantumkan pada jawaban anda.\n",
    "- Lakukan strategi terbaik untuk mengatur ROI agar wajah tetap terdeteksi pada setiap frame.\n",
    "- Anda dapat menyesuaikan waktu deteksi (berapa detik sekali deteksi dengan dlib dilakukan)\n",
    "- Anda dapat menyesuaikan parameter deteksi wajah dengan dlib dan parameter tracking dengan OpenCV\n"
   ]
  },
  {
   "cell_type": "code",
   "execution_count": 19,
   "metadata": {
    "colab": {
     "base_uri": "https://localhost:8080/"
    },
    "id": "2-PUv6NVQS3Q",
    "outputId": "aee6b2e8-30db-4af6-dbe6-bc0832d3a81d"
   },
   "outputs": [
    {
     "name": "stdout",
     "output_type": "stream",
     "text": [
      "Video dengan bounding box wajah telah disimpan sebagai output_video.avi\n"
     ]
    }
   ],
   "source": [
    "import cv2\n",
    "import dlib\n",
    "\n",
    "# Inisialisasi detektor wajah\n",
    "detector = dlib.get_frontal_face_detector()\n",
    "\n",
    "# Baca video\n",
    "video_path = 'marsella.mp4'\n",
    "cap = cv2.VideoCapture(video_path)\n",
    "\n",
    "# Ambil frame rate video\n",
    "fps = cap.get(cv2.CAP_PROP_FPS)\n",
    "frame_count = 0\n",
    "\n",
    "# Buat objek untuk menyimpan video output\n",
    "fourcc = cv2.VideoWriter_fourcc(*'XVID')\n",
    "out = cv2.VideoWriter('output_video.avi', fourcc, fps, (int(cap.get(3)), int(cap.get(4))))\n",
    "\n",
    "# Mulai membaca frame\n",
    "while cap.isOpened():\n",
    "    ret, frame = cap.read()\n",
    "    if not ret:\n",
    "        break\n",
    "\n",
    "    # Dapatkan waktu dalam detik\n",
    "    current_time = frame_count / fps\n",
    "\n",
    "    # Deteksi wajah hanya antara detik 25 hingga 40\n",
    "    if 25 <= current_time <= 40:\n",
    "        gray = cv2.cvtColor(frame, cv2.COLOR_BGR2GRAY)\n",
    "        faces = detector(gray)\n",
    "\n",
    "        # Gambar bounding box untuk setiap wajah yang terdeteksi\n",
    "        for face in faces:\n",
    "            x, y, w, h = (face.left(), face.top(), face.width(), face.height())\n",
    "            cv2.rectangle(frame, (x, y), (x + w, y + h), (0, 255, 0), 2)\n",
    "\n",
    "    # Tulis frame ke video output\n",
    "    out.write(frame)\n",
    "    frame_count += 1\n",
    "\n",
    "# Lepaskan objek\n",
    "cap.release()\n",
    "out.release()\n",
    "\n",
    "print(\"Video dengan bounding box wajah telah disimpan sebagai output_video.avi\")"
   ]
  },
  {
   "cell_type": "markdown",
   "metadata": {
    "id": "bGdWbYfedu_2"
   },
   "source": [
    "**6.** Tempelkan sebuah .png pada wajah anda (bisa di landmark lain, selain mata) dan Modifikasi kode di atas agar lebih smooth Tips: - Lakukan deteksi landmark tidak di setiap frame, melainkan setiap beberapa frame - Misal. Deteksi landmark hanya dilakukan per setiap detik (atau 30 frame sekali)\n"
   ]
  },
  {
   "cell_type": "code",
   "execution_count": 27,
   "metadata": {
    "colab": {
     "base_uri": "https://localhost:8080/",
     "height": 234
    },
    "id": "jVHEKi_QbH1y",
    "outputId": "029d3aa8-e99a-4383-ea41-b608faf0e9e9"
   },
   "outputs": [
    {
     "ename": "RuntimeError",
     "evalue": "Unable to open ",
     "output_type": "error",
     "traceback": [
      "\u001b[0;31m---------------------------------------------------------------------------\u001b[0m",
      "\u001b[0;31mRuntimeError\u001b[0m                              Traceback (most recent call last)",
      "\u001b[0;32m<ipython-input-27-0bfa14069575>\u001b[0m in \u001b[0;36m<cell line: 7>\u001b[0;34m()\u001b[0m\n\u001b[1;32m      5\u001b[0m \u001b[0;31m# Load detektor wajah dan prediktor landmark\u001b[0m\u001b[0;34m\u001b[0m\u001b[0;34m\u001b[0m\u001b[0m\n\u001b[1;32m      6\u001b[0m \u001b[0mdetector\u001b[0m \u001b[0;34m=\u001b[0m \u001b[0mdlib\u001b[0m\u001b[0;34m.\u001b[0m\u001b[0mget_frontal_face_detector\u001b[0m\u001b[0;34m(\u001b[0m\u001b[0;34m)\u001b[0m\u001b[0;34m\u001b[0m\u001b[0;34m\u001b[0m\u001b[0m\n\u001b[0;32m----> 7\u001b[0;31m \u001b[0mpredictor\u001b[0m \u001b[0;34m=\u001b[0m \u001b[0mdlib\u001b[0m\u001b[0;34m.\u001b[0m\u001b[0mshape_predictor\u001b[0m\u001b[0;34m(\u001b[0m\u001b[0;34m\"\"\u001b[0m\u001b[0;34m)\u001b[0m  \u001b[0;31m# Pastikan file ada\u001b[0m\u001b[0;34m\u001b[0m\u001b[0;34m\u001b[0m\u001b[0m\n\u001b[0m\u001b[1;32m      8\u001b[0m \u001b[0;34m\u001b[0m\u001b[0m\n\u001b[1;32m      9\u001b[0m \u001b[0;31m# Load video\u001b[0m\u001b[0;34m\u001b[0m\u001b[0;34m\u001b[0m\u001b[0m\n",
      "\u001b[0;31mRuntimeError\u001b[0m: Unable to open "
     ]
    }
   ],
   "source": [
    "import cv2\n",
    "import dlib\n",
    "import numpy as np\n",
    "\n",
    "# Load detektor wajah dan prediktor landmark\n",
    "detector = dlib.get_frontal_face_detector()\n",
    "predictor = dlib.shape_predictor(\"\")  # Pastikan file ada\n",
    "\n",
    "# Load video\n",
    "video_path = \"marsella.mp4\"  # Path ke video input Anda\n",
    "cap = cv2.VideoCapture(video_path)\n",
    "\n",
    "# Load gambar PNG (objek yang akan ditempelkan) dan sesuaikan ukurannya\n",
    "overlay_img = cv2.imread(\"overlay.png\", cv2.IMREAD_UNCHANGED)  # Pastikan file overlay.png ada\n",
    "overlay_img = cv2.resize(overlay_img, (50, 50))  # Resize sesuai kebutuhan\n",
    "\n",
    "# Video properties\n",
    "fps = cap.get(cv2.CAP_PROP_FPS)\n",
    "frame_width = int(cap.get(cv2.CAP_PROP_FRAME_WIDTH))\n",
    "frame_height = int(cap.get(cv2.CAP_PROP_FRAME_HEIGHT))\n",
    "fourcc = cv2.VideoWriter_fourcc(*'mp4v')\n",
    "out = cv2.VideoWriter(\"output_smooth_overlay.mp4\", fourcc, fps, (frame_width, frame_height))\n",
    "\n",
    "# Variabel untuk menyimpan posisi landmark\n",
    "prev_landmark = None\n",
    "frame_counter = 0\n",
    "landmark_update_interval = int(fps)  # Deteksi landmark setiap 1 detik (sesuai dengan FPS video)\n",
    "\n",
    "def apply_overlay(frame, overlay, position):\n",
    "\n",
    "    x, y = position\n",
    "    h, w = overlay.shape[:2]\n",
    "    # Batas posisi (agar tidak keluar dari frame)\n",
    "    x_start, x_end = max(0, x - w // 2), min(frame.shape[1], x + w // 2)\n",
    "    y_start, y_end = max(0, y - h // 2), min(frame.shape[0], y + h // 2)\n",
    "\n",
    "    overlay_resized = overlay[:y_end-y_start, :x_end-x_start]  # Potong overlay jika keluar dari frame\n",
    "    b, g, r, a = cv2.split(overlay_resized)  # Pisah channel\n",
    "    mask = a / 255.0  # Alpha channel sebagai mask\n",
    "\n",
    "    # Tempel overlay menggunakan alpha blending\n",
    "    for c in range(3):  # Untuk setiap channel (B, G, R)\n",
    "        frame[y_start:y_end, x_start:x_end, c] = \\\n",
    "            (1 - mask) * frame[y_start:y_end, x_start:x_end, c] + mask * overlay_resized[:, :, c]\n",
    "    return frame\n",
    "\n",
    "while cap.isOpened():\n",
    "    ret, frame = cap.read()\n",
    "    if not ret:\n",
    "        break\n",
    "\n",
    "    frame_counter += 1\n",
    "\n",
    "    # Hanya deteksi landmark setiap beberapa frame (misal, 30 frame sekali)\n",
    "    if frame_counter % landmark_update_interval == 0 or prev_landmark is None:\n",
    "        gray = cv2.cvtColor(frame, cv2.COLOR_BGR2GRAY)\n",
    "        faces = detector(gray)\n",
    "\n",
    "        if len(faces) > 0:\n",
    "            # Ambil wajah pertama yang terdeteksi\n",
    "            landmarks = predictor(gray, faces[0])\n",
    "            # Simpan landmark tertentu (misal, landmark ke-30 untuk bagian hidung)\n",
    "            prev_landmark = (landmarks.part(30).x, landmarks.part(30).y)\n",
    "\n",
    "    # Jika landmark sudah tersedia, gunakan untuk menempelkan overlay\n",
    "    if prev_landmark:\n",
    "        frame = apply_overlay(frame, overlay_img, prev_landmark)\n",
    "\n",
    "    # Tulis frame ke video output\n",
    "    out.write(frame)\n",
    "\n",
    "# Release resources\n",
    "cap.release()\n",
    "out.release()\n",
    "cv2.destroyAllWindows()\n",
    "\n",
    "print(\"Video dengan overlay smooth telah disimpan sebagai 'output_smooth_overlay.mp4'\")\n"
   ]
  }
 ],
 "metadata": {
  "colab": {
   "provenance": []
  },
  "kernelspec": {
   "display_name": "Python 3",
   "name": "python3"
  },
  "language_info": {
   "name": "python"
  }
 },
 "nbformat": 4,
 "nbformat_minor": 0
}
